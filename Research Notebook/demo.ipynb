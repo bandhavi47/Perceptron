{
 "cells": [
  {
   "cell_type": "code",
   "execution_count": null,
   "source": [
    "and = {\"x1\":[0,0,1,1],\"x2\":[0,1,0,1],\"y\":[0,1,1,1]}"
   ],
   "outputs": [],
   "metadata": {}
  }
 ],
 "metadata": {
  "language_info": {
   "name": "python",
   "version": "3.7.11"
  },
  "kernelspec": {
   "name": "python3",
   "display_name": "Python 3.7.11 64-bit ('Perceptron': conda)"
  },
  "interpreter": {
   "hash": "1304c552d0e729a390d2e5d6ad3ee78f2566361597e3f76769ed935f43cce427"
  }
 },
 "nbformat": 4,
 "nbformat_minor": 5
}